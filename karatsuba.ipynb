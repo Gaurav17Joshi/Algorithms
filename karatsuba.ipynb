{
 "cells": [
  {
   "cell_type": "code",
   "execution_count": 3,
   "metadata": {},
   "outputs": [],
   "source": [
    "def naive_multiplication(x,y):\n",
    "    x = str(x);     # We convert x to a string\n",
    "    ans = 0   \n",
    "    a = len(x)      \n",
    "    for i in range(a):\n",
    "    # We multiply each element of x with y times the ith power of z  \n",
    "        ans = ans + (10**i)*int(x[a - i -1])*y \n",
    "    return ans\n"
   ]
  },
  {
   "cell_type": "code",
   "execution_count": 4,
   "metadata": {},
   "outputs": [
    {
     "name": "stdout",
     "output_type": "stream",
     "text": [
      "340\n"
     ]
    }
   ],
   "source": [
    "print(naive_multiplication(34,10))"
   ]
  },
  {
   "cell_type": "code",
   "execution_count": 5,
   "metadata": {},
   "outputs": [],
   "source": [
    "# Karatsuba method for equal digits:\n",
    "def karatsuba(x,y):\n",
    "    n = len(str(x))\n",
    "    m = int(n/2)\n",
    "    if(n < 4):\n",
    "        # If n is smaller than 4 return x*y \n",
    "        return x*y \n",
    "    else:\n",
    "        x = str(x)\n",
    "        y = str(y)\n",
    "        barx = int(x[:m])\n",
    "        bary = int(y[:m])\n",
    "        xbar = int(x[m:])\n",
    "        ybar = int(y[:m])\n",
    "        a = karatsuba(barx, bary)\n",
    "        b = karatsuba((barx+xbar), (bary+ybar))\n",
    "        c = karatsuba(xbar, ybar)\n",
    "        return (10**n-10**m)*a + (10**m)*b + (1-10**m)*c"
   ]
  },
  {
   "cell_type": "code",
   "execution_count": 10,
   "metadata": {},
   "outputs": [
    {
     "name": "stdout",
     "output_type": "stream",
     "text": [
      "1211260641139565820\n"
     ]
    }
   ],
   "source": [
    "print(karatsuba(1234567890,9876543210))"
   ]
  },
  {
   "cell_type": "code",
   "execution_count": 11,
   "metadata": {},
   "outputs": [
    {
     "name": "stdout",
     "output_type": "stream",
     "text": [
      "12193263111263526900\n"
     ]
    }
   ],
   "source": [
    "print(naive_multiplication(1234567890,9876543210))"
   ]
  }
 ],
 "metadata": {
  "kernelspec": {
   "display_name": "Python 3.10.7 64-bit",
   "language": "python",
   "name": "python3"
  },
  "language_info": {
   "codemirror_mode": {
    "name": "ipython",
    "version": 3
   },
   "file_extension": ".py",
   "mimetype": "text/x-python",
   "name": "python",
   "nbconvert_exporter": "python",
   "pygments_lexer": "ipython3",
   "version": "3.10.7"
  },
  "orig_nbformat": 4,
  "vscode": {
   "interpreter": {
    "hash": "aee8b7b246df8f9039afb4144a1f6fd8d2ca17a180786b69acc140d282b71a49"
   }
  }
 },
 "nbformat": 4,
 "nbformat_minor": 2
}
